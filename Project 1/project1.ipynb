{
 "cells": [
  {
   "cell_type": "markdown",
   "metadata": {
    "id": "nP7TQrzgF7wN"
   },
   "source": [
    "# <span style='color:red'>Project 1</span>"
   ]
  },
  {
   "cell_type": "markdown",
   "metadata": {
    "id": "CUaUkx3CF7wS"
   },
   "source": [
    "#### In this project we use dynamic programming to create a trading schedule that maximizes total number of shares traded, under a model of liquidity impact with memory"
   ]
  },
  {
   "cell_type": "code",
   "execution_count": 1,
   "metadata": {
    "id": "jnUYfwsKF7wT"
   },
   "outputs": [],
   "source": [
    "import csv\n",
    "import sys\n",
    "import scipy.io\n",
    "import numpy as np\n",
    "import math\n",
    "import matplotlib.pyplot as plt"
   ]
  },
  {
   "cell_type": "markdown",
   "metadata": {
    "id": "RhmoCmYSF7wT"
   },
   "source": [
    "#### Suppose we have a total of N shares that we would like to trade over T time periods.  To do so, we produce a schedule\n",
    "$$ (n_0, n_1, \\ldots, n_{T-1}) \\quad \\text{where each} \\quad n_i \\ge 0$$\n",
    "#### Each $n_i$ represents the quantity that we will attempt  to trade at time $i = 0, 1,2, \\ldots, T-1$.  In reality the market will only allow us to trade a smaller quantity at each time period.  We impose the conditions:\n",
    "$$ \\sum_{i=0}^{T-2} n_i \\ \\le N \\quad \\text{and} \\quad n_{T-1} = N - \\text{quantity traded so far}$$\n",
    "#### This plays out as follows.  Assume that $\\alpha > 0$ (and very small) and $0 < \\pi < 1$ are given parameters.  Then we run the following process:\n",
    "#### 1. Initialize $M = 0$.  Then for $i = 0, 2, \\ldots, T-1$ we do the following:\n",
    "#### 2. Compute $M \\leftarrow \\lceil 0.1*M + 0.9*n_i\\rceil$.\n",
    "#### 3. At time $i \\le T-1$ we trade $S_i \\ = \\ \\lceil(1 - \\alpha M^\\pi)n_i \\rceil$ shares.  \n",
    "#### 4. Note that $n_{T-1} = N \\, - \\, \\sum_{i = 0}^{T-2} n_i$.\n",
    "\n",
    "#### <span style='color:red'>Example:  N = 10000, T = 4,   $\\alpha = 0.001$,   $\\pi = 0.5$</span>\n"
   ]
  },
  {
   "cell_type": "code",
   "execution_count": 4,
   "metadata": {},
   "outputs": [
    {
     "name": "stdout",
     "output_type": "stream",
     "text": [
      "Planned sales schedule: [5000 1000 2000 2000] ; total planned =  10000\n",
      "at time 0, M = 4500 and we try trading n_{0} = 5000, and trade 4665 shares\n",
      "at time 1, M = 1350 and we try trading n_{1} = 1000, and trade 964 shares\n",
      "at time 2, M = 1935 and we try trading n_{2} = 2000, and trade 1913 shares\n",
      "at time 3, M = 2406 and we try trading n_{3} = 2458, and trade 2338 shares\n",
      "total sold = 9880 i.e., as a percentage, 94.47313061770893 of the total planned.\n"
     ]
    }
   ],
   "source": [
    "M = 0\n",
    "T = 4\n",
    "N = 10000\n",
    "alpha = 1e-3\n",
    "pi = 0.5\n",
    "S = np.zeros(T,dtype='i')\n",
    "n  = np.array([5000,1000,2000,2000]) # note that we index the array starting from zero\n",
    "print(\"Planned sales schedule:\",n,\"; total planned = \",np.sum(n))\n",
    "total = 0\n",
    "for i in range(T):\n",
    "    M = math.ceil(0.1*M + 0.9*n[i])\n",
    "    S[i] = math.ceil((1 - alpha*M**pi)*n[i])\n",
    "    total += S[i]\n",
    "    if i == T-2:\n",
    "        n[i+1] = N-total\n",
    "    print('at time %d, M = %d and we try trading n_{%d} = %d, and trade %d shares' %(i,M,i,n[i],S[i]))\n",
    "print('total sold =', total, \"i.e., as a percentage,\",100*np.sum(S)/np.sum(n),\"of the total planned.\")"
   ]
  },
  {
   "cell_type": "markdown",
   "metadata": {
    "id": "i6PbdNevF7wU"
   },
   "source": [
    "### <span style='color:red'>Task 1: </span>code a dynamic programming algorithm that computes an optimal schedule of trades $(n_0, n_1, \\ldots, n_{T-1})$ with the goal of maximizing the total number of traded shares\n",
    "#### Make sure that your code runs well for a range of values of $\\alpha$ and $\\pi$\n",
    "#### Compute the optimal schedule when $\\alpha = 0.001$, $\\pi = 0.5$, $N = 100000$ and $T = 10$.   Denote this schedule by $(S_0, S_1, \\ldots, S_9)$.\n",
    "\n",
    "### Note: You should not use any recursive implementation of the algorithm."
   ]
  },
  {
   "cell_type": "code",
   "execution_count": null,
   "metadata": {},
   "outputs": [],
   "source": []
  },
  {
   "cell_type": "markdown",
   "metadata": {
    "id": "3IqHQLv2F7wU"
   },
   "source": [
    "### <span style='color:red'>Task 2. Test the effectiveness of this computed schedule using the first 2 hours of each day in the TSLA data </span>\n",
    "To do so, we divide the first 2 hours of each day into 12 separate intervals of ten minutes each.\n",
    "Each interval is evaluated as follows.  Suppose that the traded volume in that interval is given by the numbers $(V_0, V_1, \\ldots, V_9)$.\n",
    "Then the interval score we assign to our schedule is given by\n",
    "$$ \\sum_{i = 0}^9 \\min\\{ S_i, V_i/100 \\}.$$\n",
    "Effectively, this scheme allows us to trade up to a volume of 1% of what the market actually traded."
   ]
  },
  {
   "cell_type": "markdown",
   "metadata": {
    "id": "05adQi7SF7wV"
   },
   "source": [
    "#### The TOTAL SCORE we assign to our schedule is the average of the all interval scores, averaged over the first 12 intervals of all the days in the first half of our data\n",
    "#### In other words, if we have 300 days of data, we take the first 150, and we get in total 12x150 = 1800 intervals"
   ]
  },
  {
   "cell_type": "code",
   "execution_count": null,
   "metadata": {},
   "outputs": [],
   "source": []
  },
  {
   "cell_type": "markdown",
   "metadata": {
    "id": "BELYjnppF7wV"
   },
   "source": [
    "### <span style='color:red'>Task 3:</span>  code an algorithm that (approximately) does the following:\n",
    "#### 1. It approximately enumerates all possible values for $\\pi$ between $0.3$ and $0.7$\n",
    "#### 2. It approximately computes the value of $\\pi$ that maximizes the TOTAL SCORE, when $N = 100000$, $T = 10$ and $\\alpha = 0.001$.\n",
    "#### 3. This means that we run the DP algorithm (under the chosen value of $\\pi$) and then evaluate as above to compute the TOTAL SCORE."
   ]
  },
  {
   "cell_type": "code",
   "execution_count": null,
   "metadata": {},
   "outputs": [],
   "source": []
  }
 ],
 "metadata": {
  "colab": {
   "provenance": []
  },
  "kernelspec": {
   "display_name": "base",
   "language": "python",
   "name": "python3"
  },
  "language_info": {
   "codemirror_mode": {
    "name": "ipython",
    "version": 3
   },
   "file_extension": ".py",
   "mimetype": "text/x-python",
   "name": "python",
   "nbconvert_exporter": "python",
   "pygments_lexer": "ipython3",
   "version": "3.11.4"
  }
 },
 "nbformat": 4,
 "nbformat_minor": 1
}
